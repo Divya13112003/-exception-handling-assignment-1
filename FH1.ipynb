{
 "cells": [
  {
   "cell_type": "code",
   "execution_count": null,
   "id": "37b10c79-faa8-47ae-846d-425dac7aaf99",
   "metadata": {},
   "outputs": [],
   "source": [
    "Q1.\n",
    "\n",
    "Python Logical Errors (Exceptions)\n",
    "Errors that occur at runtime (after passing the syntax test) are called exceptions or logical errors.\n",
    "For instance, they occur when we. try to open a file(for reading) that does not exist ( FileNotFoundError ) \n",
    "try to divide a number by zero ( ZeroDivisionError )\n",
    "\n",
    "An error is an issue in a program that prevents the program from completing its task. In comparison,\n",
    "an exception is a condition that interrupts the normal flow of the program. Both errors and exceptions\n",
    "are a type of runtime error, which means they occur during the execution of a program.\n"
   ]
  },
  {
   "cell_type": "code",
   "execution_count": null,
   "id": "bd4f0a62-5d08-4541-9d34-85632022467e",
   "metadata": {},
   "outputs": [],
   "source": [
    "Q2.\n",
    "\n",
    "If an exception occurs during execution of the try clause, the exception may be handled by an except clause.\n",
    "If the exception is not handled by an except clause, the exception is re-raised after the finally clause\n",
    "has been executed"
   ]
  },
  {
   "cell_type": "code",
   "execution_count": 1,
   "id": "6e749873-b4d3-4b81-9475-13355488e293",
   "metadata": {},
   "outputs": [
    {
     "data": {
      "text/plain": [
       "False"
      ]
     },
     "execution_count": 1,
     "metadata": {},
     "output_type": "execute_result"
    }
   ],
   "source": [
    "# example\n",
    "def bool_return():\n",
    "    try:\n",
    "        return True\n",
    "    finally:\n",
    "        return False\n",
    "\n",
    "bool_return()"
   ]
  },
  {
   "cell_type": "code",
   "execution_count": null,
   "id": "7bccbdf8-f012-4ccb-8251-da8dd48dc99e",
   "metadata": {},
   "outputs": [],
   "source": [
    "Q3.\n",
    "\n",
    "Try and except statements are used to catch and handle exceptions in Python.\n",
    "Statements that can raise exceptions are kept inside the try clause and the statements \n",
    "that handle the exception are written inside except clause."
   ]
  },
  {
   "cell_type": "code",
   "execution_count": 2,
   "id": "ec26c821-b7a0-4b08-8435-ffbda73bbacd",
   "metadata": {},
   "outputs": [
    {
     "name": "stdout",
     "output_type": "stream",
     "text": [
      "Second element = 2\n",
      "An error occurred\n"
     ]
    }
   ],
   "source": [
    "#example\n",
    "a = [1, 2, 3]\n",
    "try: \n",
    "\tprint (\"Second element = %d\" %(a[1]))\n",
    "\n",
    "\tprint (\"Fourth element = %d\" %(a[3]))\n",
    "\n",
    "except:\n",
    "\tprint (\"An error occurred\")\n"
   ]
  },
  {
   "cell_type": "code",
   "execution_count": null,
   "id": "66909412-3e6a-4e03-a60a-c1df09db8c9b",
   "metadata": {},
   "outputs": [],
   "source": [
    "Q4. \n",
    "\n",
    "(a)\n",
    "The try block lets you test a block of code for errors. The except block lets you handle the error.\n",
    "The else block lets you execute code when there is no error. The finally block lets you execute code,\n",
    "regardless of the result of the try- and except blocks."
   ]
  },
  {
   "cell_type": "code",
   "execution_count": 3,
   "id": "89a5f98f-125d-4e13-be6e-90d2379c43f4",
   "metadata": {},
   "outputs": [
    {
     "name": "stdout",
     "output_type": "stream",
     "text": [
      "Something went wrong when opening the file\n"
     ]
    }
   ],
   "source": [
    "#example\n",
    "try:\n",
    "  f = open(\"demofile.txt\")\n",
    "  try:\n",
    "    f.write(\"Lorum Ipsum\")\n",
    "  except:\n",
    "    print(\"Something went wrong when writing to the file\")\n",
    "  finally:\n",
    "    f.close()\n",
    "except:\n",
    "  print(\"Something went wrong when opening the file\")\n"
   ]
  },
  {
   "cell_type": "code",
   "execution_count": null,
   "id": "335019d8-243f-485c-981c-5240b146b5e9",
   "metadata": {},
   "outputs": [],
   "source": [
    "(b)\n",
    "The finally keyword is used in try...except blocks. It defines a block of code to run when \n",
    "the try...except...else block is final.\n",
    "\n",
    "The finally block will be executed no matter if the try block raises an error or not."
   ]
  },
  {
   "cell_type": "code",
   "execution_count": 4,
   "id": "5c7ba422-455b-4f9a-a16f-e0891e84a364",
   "metadata": {},
   "outputs": [
    {
     "name": "stdout",
     "output_type": "stream",
     "text": [
      "Something went wrong\n",
      "The try...except block is finished\n"
     ]
    }
   ],
   "source": [
    "#example\n",
    "try:\n",
    "  x > 3\n",
    "except:\n",
    "  print(\"Something went wrong\")\n",
    "else:\n",
    "  print(\"Nothing went wrong\")\n",
    "finally:\n",
    "  print(\"The try...except block is finished\")"
   ]
  },
  {
   "cell_type": "code",
   "execution_count": null,
   "id": "bd19a146-0daf-4c51-9f3f-d409f8d8080d",
   "metadata": {},
   "outputs": [],
   "source": [
    "(c)\n",
    "The raise keyword is used to raise an exception. You can define what kind of error to raise, \n",
    "and the text to print to the user. except is a keyword (case-sensitive) in python, it is used to\n",
    "raise an Exception/Error with a customized message and stops the execution of the programs."
   ]
  },
  {
   "cell_type": "code",
   "execution_count": 5,
   "id": "4390a6db-e90c-49db-8429-59c5becf8f02",
   "metadata": {},
   "outputs": [
    {
     "ename": "Exception",
     "evalue": "This word is not allowed",
     "output_type": "error",
     "traceback": [
      "\u001b[0;31m---------------------------------------------------------------------------\u001b[0m",
      "\u001b[0;31mException\u001b[0m                                 Traceback (most recent call last)",
      "Cell \u001b[0;32mIn[5], line 5\u001b[0m\n\u001b[1;32m      1\u001b[0m string \u001b[38;5;241m=\u001b[39m \u001b[38;5;124m\"\u001b[39m\u001b[38;5;124mHello\u001b[39m\u001b[38;5;124m\"\u001b[39m\n\u001b[1;32m      4\u001b[0m \u001b[38;5;28;01mif\u001b[39;00m string\u001b[38;5;241m==\u001b[39m\u001b[38;5;124m\"\u001b[39m\u001b[38;5;124mHello\u001b[39m\u001b[38;5;124m\"\u001b[39m \u001b[38;5;129;01mor\u001b[39;00m string\u001b[38;5;241m==\u001b[39m\u001b[38;5;124m\"\u001b[39m\u001b[38;5;124mHi\u001b[39m\u001b[38;5;124m\"\u001b[39m \u001b[38;5;129;01mor\u001b[39;00m string\u001b[38;5;241m==\u001b[39m\u001b[38;5;124m\"\u001b[39m\u001b[38;5;124mBye\u001b[39m\u001b[38;5;124m\"\u001b[39m:\n\u001b[0;32m----> 5\u001b[0m     \u001b[38;5;28;01mraise\u001b[39;00m \u001b[38;5;167;01mException\u001b[39;00m(\u001b[38;5;124m\"\u001b[39m\u001b[38;5;124mThis word is not allowed\u001b[39m\u001b[38;5;124m\"\u001b[39m)\n",
      "\u001b[0;31mException\u001b[0m: This word is not allowed"
     ]
    }
   ],
   "source": [
    "#example\n",
    "string = \"Hello\"\n",
    "\n",
    "\n",
    "if string==\"Hello\" or string==\"Hi\" or string==\"Bye\":\n",
    "    raise Exception(\"This word is not allowed\")"
   ]
  },
  {
   "cell_type": "code",
   "execution_count": null,
   "id": "6295b4c3-047e-4832-8f36-877e2e4f989b",
   "metadata": {},
   "outputs": [],
   "source": [
    "Q5.\n",
    "\n",
    "Custom exceptions are helpful in many situations. They allow you to define your own error conditions\n",
    "and handle them in a more specific and meaningful way. \n",
    "For example, let's say you are writing a program that reads data from a file. If the file is not found,\n",
    "Python will raise a FileNotFoundError \n",
    "Custom or User-defined Exceptions are designed as per the requirement of the program. Using custom Exception \n",
    "we can have our own Exception and a meaningful message explaining the cause of the exception"
   ]
  },
  {
   "cell_type": "code",
   "execution_count": 7,
   "id": "8b13041d-e4ac-4bf6-9475-67a7da542775",
   "metadata": {},
   "outputs": [
    {
     "name": "stdin",
     "output_type": "stream",
     "text": [
      "Enter a number:  14\n"
     ]
    },
    {
     "name": "stdout",
     "output_type": "stream",
     "text": [
      "Exception occurred: Invalid Age\n"
     ]
    }
   ],
   "source": [
    "# define Python user-defined exceptions\n",
    "class InvalidAgeException(Exception):\n",
    "    \"Raised when the input value is less than 18\"\n",
    "    pass\n",
    "\n",
    "# you need to guess this number\n",
    "number = 18\n",
    "\n",
    "try:\n",
    "    input_num = int(input(\"Enter a number: \"))\n",
    "    if input_num < number:\n",
    "        raise InvalidAgeException\n",
    "    else:\n",
    "        print(\"Eligible to Vote\")\n",
    "        \n",
    "except InvalidAgeException:\n",
    "    print(\"Exception occurred: Invalid Age\")"
   ]
  },
  {
   "cell_type": "code",
   "execution_count": 8,
   "id": "e6bb7e2c-5016-4fac-9cd2-46ee1bcbbf9b",
   "metadata": {},
   "outputs": [
    {
     "name": "stdin",
     "output_type": "stream",
     "text": [
      "Enter salary amount:  2000\n"
     ]
    },
    {
     "ename": "SalaryNotInRangeError",
     "evalue": "Salary is not in (5000, 15000) range",
     "output_type": "error",
     "traceback": [
      "\u001b[0;31m---------------------------------------------------------------------------\u001b[0m",
      "\u001b[0;31mSalaryNotInRangeError\u001b[0m                     Traceback (most recent call last)",
      "Cell \u001b[0;32mIn[8], line 17\u001b[0m\n\u001b[1;32m     15\u001b[0m salary \u001b[38;5;241m=\u001b[39m \u001b[38;5;28mint\u001b[39m(\u001b[38;5;28minput\u001b[39m(\u001b[38;5;124m\"\u001b[39m\u001b[38;5;124mEnter salary amount: \u001b[39m\u001b[38;5;124m\"\u001b[39m))\n\u001b[1;32m     16\u001b[0m \u001b[38;5;28;01mif\u001b[39;00m \u001b[38;5;129;01mnot\u001b[39;00m \u001b[38;5;241m5000\u001b[39m \u001b[38;5;241m<\u001b[39m salary \u001b[38;5;241m<\u001b[39m \u001b[38;5;241m15000\u001b[39m:\n\u001b[0;32m---> 17\u001b[0m     \u001b[38;5;28;01mraise\u001b[39;00m SalaryNotInRangeError(salary)\n",
      "\u001b[0;31mSalaryNotInRangeError\u001b[0m: Salary is not in (5000, 15000) range"
     ]
    }
   ],
   "source": [
    "Q6.\n",
    "\n",
    "class SalaryNotInRangeError(Exception):\n",
    "    \"\"\"Exception raised for errors in the input salary.\n",
    "\n",
    "    Attributes:\n",
    "        salary -- input salary which caused the error\n",
    "        message -- explanation of the error\n",
    "    \"\"\"\n",
    "\n",
    "    def __init__(self, salary, message=\"Salary is not in (5000, 15000) range\"):\n",
    "        self.salary = salary\n",
    "        self.message = message\n",
    "        super().__init__(self.message)\n",
    "\n",
    "\n",
    "salary = int(input(\"Enter salary amount: \"))\n",
    "if not 5000 < salary < 15000:\n",
    "    raise SalaryNotInRangeError(salary)\n"
   ]
  },
  {
   "cell_type": "code",
   "execution_count": null,
   "id": "fd980ec8-ca62-4341-b5c7-b98558f03bb3",
   "metadata": {},
   "outputs": [],
   "source": []
  }
 ],
 "metadata": {
  "kernelspec": {
   "display_name": "Python 3 (ipykernel)",
   "language": "python",
   "name": "python3"
  },
  "language_info": {
   "codemirror_mode": {
    "name": "ipython",
    "version": 3
   },
   "file_extension": ".py",
   "mimetype": "text/x-python",
   "name": "python",
   "nbconvert_exporter": "python",
   "pygments_lexer": "ipython3",
   "version": "3.10.8"
  }
 },
 "nbformat": 4,
 "nbformat_minor": 5
}
